{
 "cells": [
  {
   "cell_type": "code",
   "execution_count": null,
   "metadata": {},
   "outputs": [],
   "source": [
    "# this is the host point or server or considering as user1\n",
    "import socket\n",
    "import cv2\n",
    "import pickle\n",
    "import struct"
   ]
  },
  {
   "cell_type": "code",
   "execution_count": null,
   "metadata": {},
   "outputs": [],
   "source": [
    "# Socket_Creation\n",
    "server_socket = socket.socket(socket.AF_INET,socket.SOCK_STREAM)\n",
    "host_name = socket.gethostname()\n",
    "host_ip = socket.gethostbyname(host_name)\n",
    "print('Host IP:', host_ip)\n",
    "port = 8888\n",
    "socket_address = ('192.168.43.125', port)\n",
    "\n",
    "# socket BIND\n",
    "server_socket.bind(socket_address)\n",
    "\n",
    "# socket LISTEN\n",
    "server_socket.listen(5)\n",
    "print('Listening At:',socket_address)\n",
    "\n",
    "# socket ACCEPT\n",
    "while True:\n",
    "    client_socket,addr = server_socket.accept()\n",
    "    print('Connect to:', addr)\n",
    "    if client_socket:\n",
    "        vid = cv2.VideoCapture(0)\n",
    "        \n",
    "        while(vid.isOpened()):\n",
    "            img,frame = vid.read()\n",
    "            a = pickle.dumps(frame)\n",
    "            message = struct.pack('Q', len(a))+a\n",
    "            client_socket.sendall(message)\n",
    "            \n",
    "            cv2.imshow('Tranmiting Video',frame)\n",
    "            key = cv2.waitKey(1) & 0xFF\n",
    "            \n",
    "            \n",
    "            if key ==ord('q'):\n",
    "                client_socket.close()\n",
    "                \n",
    "           "
   ]
  },
  {
   "cell_type": "code",
   "execution_count": null,
   "metadata": {},
   "outputs": [],
   "source": []
  }
 ],
 "metadata": {
  "kernelspec": {
   "display_name": "Python 3",
   "language": "python",
   "name": "python3"
  },
  "language_info": {
   "codemirror_mode": {
    "name": "ipython",
    "version": 3
   },
   "file_extension": ".py",
   "mimetype": "text/x-python",
   "name": "python",
   "nbconvert_exporter": "python",
   "pygments_lexer": "ipython3",
   "version": "3.8.3"
  }
 },
 "nbformat": 4,
 "nbformat_minor": 4
}
